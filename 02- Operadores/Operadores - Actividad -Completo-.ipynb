{
 "cells": [
  {
   "cell_type": "markdown",
   "metadata": {},
   "source": [
    "## Operadores - Actividad"
   ]
  },
  {
   "cell_type": "markdown",
   "metadata": {},
   "source": [
    "1) Pedir al usuario dos números y mostrar por pantalla la suma de ellos."
   ]
  },
  {
   "cell_type": "code",
   "execution_count": 2,
   "metadata": {},
   "outputs": [
    {
     "name": "stdout",
     "output_type": "stream",
     "text": [
      "8\n"
     ]
    }
   ],
   "source": [
    "numero1 = int(input(\"Ingrese un numero\"))\n",
    "numero2 = int(input(\"Ingrese otro numero\"))\n",
    "print(numero1+numero2)"
   ]
  },
  {
   "cell_type": "markdown",
   "metadata": {},
   "source": [
    "2) Calcular el perímetro y área de un rectángulo dada su base y su altura (el usuario debe introducir por teclado los dos valores)."
   ]
  },
  {
   "cell_type": "code",
   "execution_count": 4,
   "metadata": {},
   "outputs": [
    {
     "name": "stdout",
     "output_type": "stream",
     "text": [
      "El area del rectángulo es: 6\n",
      "El perimetro del rectángulo es: 10\n"
     ]
    }
   ],
   "source": [
    "base = int(input(\"Ingrese la base del rectangulo\"))\n",
    "altura = int(input(\"Ingrese la altura del rectangulo\"))\n",
    "print(f\"El area del rectángulo es: {base*altura}\")\n",
    "print(f\"El perimetro del rectángulo es: {2*base+2*altura}\")"
   ]
  },
  {
   "cell_type": "markdown",
   "metadata": {},
   "source": [
    "3) Calcular el resultado de elevar un número entero a otro número entero (por ejemplo, 5 elevado a 3 = 5^3 = 5*5*5)."
   ]
  },
  {
   "cell_type": "code",
   "execution_count": 7,
   "metadata": {},
   "outputs": [
    {
     "name": "stdout",
     "output_type": "stream",
     "text": [
      "El resultado de elevar 2 a la 8 es: 256\n"
     ]
    }
   ],
   "source": [
    "num1 = int(input(\"Ingrese base\"))\n",
    "num2 = int(input(\"Ingrese exponente\"))\n",
    "print(f\"El resultado de elevar {num1} a la {num2} es: {pow(num1,num2)}\")"
   ]
  },
  {
   "cell_type": "markdown",
   "metadata": {},
   "source": [
    "4) Escribe un programa que convierta grados Celsius a grados Fahrenheit utilizando la fórmula: **F = (C * 9/5) + 32**"
   ]
  },
  {
   "cell_type": "code",
   "execution_count": 9,
   "metadata": {},
   "outputs": [
    {
     "name": "stdout",
     "output_type": "stream",
     "text": [
      "La temperatura en grados Fahrenheit es: 212.0 °F\n"
     ]
    }
   ],
   "source": [
    "gradosCelcius = int(input(\"Ingrese la temperatura en grados Fahrenheit\"))\n",
    "print(f\"La temperatura en grados Fahrenheit es: {(gradosCelcius*9/5)+32} °F\")"
   ]
  },
  {
   "cell_type": "markdown",
   "metadata": {},
   "source": [
    "5) Pedir al usuario su edad y mostrar por pantalla si es mayor de edad o no. (Mayor de edad >= 18)"
   ]
  },
  {
   "cell_type": "code",
   "execution_count": 11,
   "metadata": {},
   "outputs": [
    {
     "name": "stdout",
     "output_type": "stream",
     "text": [
      "Es menor de edad\n"
     ]
    }
   ],
   "source": [
    "edad = int(input(\"Ingrese su edad\"))\n",
    "if edad >= 18:\n",
    "    print(\"Es mayor de edad\")\n",
    "else:\n",
    "    print(\"Es menor de edad\")"
   ]
  },
  {
   "cell_type": "markdown",
   "metadata": {},
   "source": [
    "6) Comprobar si el numero ingresado por el usuario es par o impar."
   ]
  },
  {
   "cell_type": "code",
   "execution_count": 17,
   "metadata": {},
   "outputs": [
    {
     "name": "stdout",
     "output_type": "stream",
     "text": [
      "El numero es impar\n"
     ]
    }
   ],
   "source": [
    "num3 = int(input(\"Ingrese un numero\"))\n",
    "if num3%2 == 0:\n",
    "    print(\"El numero es par\")\n",
    "else:\n",
    "    print(\"El numero es impar\")"
   ]
  },
  {
   "cell_type": "markdown",
   "metadata": {},
   "source": [
    "7) Pedir al usuario que ingrese su dirección email y luego mostrar un mensaje indicando si la dirección es válida o no. Una dirección se considerará válida si contiene el símbolo \"@\"."
   ]
  },
  {
   "cell_type": "code",
   "execution_count": 19,
   "metadata": {},
   "outputs": [
    {
     "name": "stdout",
     "output_type": "stream",
     "text": [
      "La direccion no es válida\n"
     ]
    }
   ],
   "source": [
    "mail = input(\"Ingrese su mail\")\n",
    "if \"@\" in mail:\n",
    "    print(\"La direccion es válida\")\n",
    "else:\n",
    "    print(\"La direccion no es válida\")"
   ]
  },
  {
   "cell_type": "markdown",
   "metadata": {},
   "source": [
    "8) Dado un número de dos cifras, diseñe un algoritmo que permita obtener el número invertido. Ejemplo, si se introduce 23 que muestre 32. (Recordar que las cadenas pueden tratarse como listas de caracteres)."
   ]
  },
  {
   "cell_type": "code",
   "execution_count": 21,
   "metadata": {},
   "outputs": [
    {
     "name": "stdout",
     "output_type": "stream",
     "text": [
      "Su número invertido es 73\n"
     ]
    }
   ],
   "source": [
    "num4 = input(\"Ingrese un número\")\n",
    "num5 = input(\"Ingrese otro número\")\n",
    "print(f\"Su número invertido es {num5}{num4}\")"
   ]
  },
  {
   "cell_type": "markdown",
   "metadata": {},
   "source": [
    "9) Crea un programa que pida al usuario dos números y muestre True si ambos son mayores que 10."
   ]
  },
  {
   "cell_type": "code",
   "execution_count": 25,
   "metadata": {},
   "outputs": [
    {
     "name": "stdout",
     "output_type": "stream",
     "text": [
      "True\n"
     ]
    }
   ],
   "source": [
    "num6 = int(input(\"Ingrese un número\"))\n",
    "num7 = int(input(\"Ingrese otro número\"))\n",
    "condicion = num6 > 10 and num7 > 10\n",
    "if condicion: print(condicion)\n"
   ]
  },
  {
   "cell_type": "markdown",
   "metadata": {},
   "source": [
    "10) Escribe un programa que verifique si un número ingresado por el usuario es divisible por 3 y por 5."
   ]
  },
  {
   "cell_type": "code",
   "execution_count": 29,
   "metadata": {},
   "outputs": [
    {
     "name": "stdout",
     "output_type": "stream",
     "text": [
      "El numero 45 ES divisible por 3 y por 5\n"
     ]
    }
   ],
   "source": [
    "num8 = int(input(\"Ingrese un número\"))\n",
    "condicion = (num8%3 == 0 and num8%5 == 0)\n",
    "if condicion: print(f\"El numero {num8}, ES divisible por 3 y por 5\")\n",
    "else: print(f\"El numero {num8}, NO es divisible por 3 y por 5\")"
   ]
  },
  {
   "cell_type": "markdown",
   "metadata": {},
   "source": [
    "11) Utilizando la información del punto 5, preguntar al usuario si posee carnet de conducir, luego verificar si puede conducir un automóvil."
   ]
  },
  {
   "cell_type": "code",
   "execution_count": 32,
   "metadata": {},
   "outputs": [
    {
     "name": "stdout",
     "output_type": "stream",
     "text": [
      "No puede conducir\n"
     ]
    }
   ],
   "source": [
    "edad = int(input(\"Ingrese su edad\"))\n",
    "posseCarnet = input(\"¿Posee carnet de conducir?\")\n",
    "if edad >= 18 and posseCarnet == \"si\":\n",
    "    print(\"Puede conducir\")\n",
    "else:\n",
    "    print(\"No puede conducir\")"
   ]
  },
  {
   "cell_type": "markdown",
   "metadata": {},
   "source": [
    "12) Pide al usuario un número y verifica si es positivo y no es mayor que 100."
   ]
  },
  {
   "cell_type": "code",
   "execution_count": 38,
   "metadata": {},
   "outputs": [],
   "source": [
    "num9 = int(input(\"Ingrese un número\"))\n",
    "if num9 >= 0 and not(num9 > 100): print(f\"El numero {num9} es positivo y no es mayor que 100\")"
   ]
  },
  {
   "cell_type": "markdown",
   "metadata": {},
   "source": [
    "13) Crear un programa que valide si un número ingresado por el usuario es par y mayor que 20."
   ]
  },
  {
   "cell_type": "code",
   "execution_count": 42,
   "metadata": {},
   "outputs": [],
   "source": [
    "num10 = int(input(\"Ingrese un número\"))\n",
    "if num10%2 == 0 and num10 > 20: print(f\"El numero {num10} es par y es mayor que 20\")"
   ]
  },
  {
   "cell_type": "markdown",
   "metadata": {},
   "source": [
    "14) Dada la variable **numero = 5**, realizar la operación necesaria para que número sea igual a 8. Luego imprimir en pantalla el nuevo valor de número y realizar una nueva operación para que el valor de número sea igual a 4 y mostrar en pantalla el nuevo valor."
   ]
  },
  {
   "cell_type": "code",
   "execution_count": 43,
   "metadata": {},
   "outputs": [
    {
     "name": "stdout",
     "output_type": "stream",
     "text": [
      "8\n",
      "4\n"
     ]
    }
   ],
   "source": [
    "numero = 5\n",
    "numero = 8\n",
    "print(numero)\n",
    "numero = 4\n",
    "print(numero)"
   ]
  },
  {
   "cell_type": "markdown",
   "metadata": {},
   "source": [
    "15) Dadas las variables altura = \"10\" y base = 5, calcular el área de un triángulo y mostrar el resultado en pantalla. ¿Por qué el resultado es un error? ¿Cómo lo corregirías?"
   ]
  },
  {
   "cell_type": "code",
   "execution_count": 47,
   "metadata": {},
   "outputs": [
    {
     "name": "stdout",
     "output_type": "stream",
     "text": [
      "El area del triangulo es 25.0\n"
     ]
    }
   ],
   "source": [
    "altura1 = \"10\"\n",
    "base1 = 5\n",
    "areaTriangulo = base1*int(altura1)/2\n",
    "print(f\"El area del triangulo es {areaTriangulo}\")\n",
    "\n",
    "# El error se debe a que la variable altura1 es de tipo string\n",
    "# Para corregirlo, convierto la variable altura1 a entero con la funcion int()"
   ]
  },
  {
   "cell_type": "markdown",
   "metadata": {},
   "source": [
    "16) Crea un programa que calcule el promedio de tres calificaciones ingresadas por el usuario, y comprobar si el alumno aprobó o no (aprueba con nota mayor a 6)."
   ]
  },
  {
   "cell_type": "code",
   "execution_count": 49,
   "metadata": {},
   "outputs": [
    {
     "name": "stdout",
     "output_type": "stream",
     "text": [
      "Aprobado\n"
     ]
    }
   ],
   "source": [
    "num11 = int(input(\"Ingrese una calificación\"))\n",
    "num12 = int(input(\"Ingrese otra calificación\"))\n",
    "num13 = int(input(\"Ingrese una calificación más\"))\n",
    "promedio = (num11+num12+num13)/3\n",
    "if promedio > 6: \n",
    "    print(\"Aprobado\")\n",
    "else:\n",
    "    print(\"No aprobado\")"
   ]
  },
  {
   "cell_type": "markdown",
   "metadata": {},
   "source": [
    "17) Pide al usuario su edad y calcula cuántos días, horas y minutos ha vivido aproximadamente (asumiendo 365 días por año)."
   ]
  },
  {
   "cell_type": "code",
   "execution_count": 51,
   "metadata": {},
   "outputs": [
    {
     "name": "stdout",
     "output_type": "stream",
     "text": [
      "Usted ha vivido: 14235 dias = 341640 horas = 20498400 minutos\n"
     ]
    }
   ],
   "source": [
    "edad = int(input(\"Ingrese su edad\"))\n",
    "dias = edad*365\n",
    "horas = dias*24\n",
    "minutos = horas*60\n",
    "print(f\"Usted ha vivido: {dias} dias = {horas} horas = {minutos} minutos\")"
   ]
  },
  {
   "cell_type": "markdown",
   "metadata": {},
   "source": [
    "18) Crea un programa que verifique si un número ingresado por el usuario es múltiplo de 4 y de 6 al mismo tiempo."
   ]
  },
  {
   "cell_type": "code",
   "execution_count": 54,
   "metadata": {},
   "outputs": [
    {
     "name": "stdout",
     "output_type": "stream",
     "text": [
      "El numero 48 es múltiplo de 4 y es múltiplo de 6\n"
     ]
    }
   ],
   "source": [
    "num14 = int(input(\"Ingrese un número\"))\n",
    "if num14%4 == 0 and num14%6 == 0: print(f\"El numero {num14} es múltiplo de 4 y es múltiplo de 6\")"
   ]
  },
  {
   "cell_type": "markdown",
   "metadata": {},
   "source": [
    "19) "
   ]
  }
 ],
 "metadata": {
  "kernelspec": {
   "display_name": "Python 3",
   "language": "python",
   "name": "python3"
  },
  "language_info": {
   "codemirror_mode": {
    "name": "ipython",
    "version": 3
   },
   "file_extension": ".py",
   "mimetype": "text/x-python",
   "name": "python",
   "nbconvert_exporter": "python",
   "pygments_lexer": "ipython3",
   "version": "3.11.6"
  }
 },
 "nbformat": 4,
 "nbformat_minor": 2
}
